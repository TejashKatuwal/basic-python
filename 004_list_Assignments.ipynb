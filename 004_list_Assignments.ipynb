{
 "cells": [
  {
   "cell_type": "code",
   "execution_count": 1,
   "id": "e4bd1874",
   "metadata": {},
   "outputs": [
    {
     "name": "stdout",
     "output_type": "stream",
     "text": [
      "[1, 'apple', 2.3, (2+3j), [4, 5, 6]]\n"
     ]
    }
   ],
   "source": [
    "my_list= [1,'apple',2.3,2+3j,[4,5,6]]\n",
    "print(my_list)"
   ]
  },
  {
   "cell_type": "code",
   "execution_count": 2,
   "id": "682e8e8b",
   "metadata": {},
   "outputs": [
    {
     "name": "stdout",
     "output_type": "stream",
     "text": [
      "5\n"
     ]
    }
   ],
   "source": [
    "print(len(my_list))"
   ]
  },
  {
   "cell_type": "code",
   "execution_count": 3,
   "id": "b401ceb0",
   "metadata": {},
   "outputs": [
    {
     "name": "stdout",
     "output_type": "stream",
     "text": [
      "1 2.3 [4, 5, 6]\n"
     ]
    }
   ],
   "source": [
    "print(my_list[0],my_list[2],my_list[4])"
   ]
  },
  {
   "cell_type": "code",
   "execution_count": 4,
   "id": "6adc0352",
   "metadata": {},
   "outputs": [],
   "source": [
    "my_info=['Tejash',22,5.8,'unmarried','Nepal']"
   ]
  },
  {
   "cell_type": "code",
   "execution_count": 5,
   "id": "9171ea34",
   "metadata": {},
   "outputs": [
    {
     "name": "stdout",
     "output_type": "stream",
     "text": [
      "['Tejash', 22, 5.8, 'unmarried', 'Nepal']\n"
     ]
    }
   ],
   "source": [
    "print(my_info)"
   ]
  },
  {
   "cell_type": "code",
   "execution_count": 6,
   "id": "12a82511",
   "metadata": {},
   "outputs": [
    {
     "name": "stdout",
     "output_type": "stream",
     "text": [
      "['Guava', 'mango', 'apple', 'Pear', 'Fig', 'orange', 'Banana']\n"
     ]
    }
   ],
   "source": [
    "mix_fruits = ['Guava','mango','apple','Pear','Fig','orange','Banana']\n",
    "print(mix_fruits)"
   ]
  },
  {
   "cell_type": "code",
   "execution_count": 7,
   "id": "e10f5884",
   "metadata": {},
   "outputs": [
    {
     "name": "stdout",
     "output_type": "stream",
     "text": [
      "7\n"
     ]
    }
   ],
   "source": [
    "print(len(mix_fruits))"
   ]
  },
  {
   "cell_type": "code",
   "execution_count": 8,
   "id": "fe254cab",
   "metadata": {},
   "outputs": [
    {
     "name": "stdout",
     "output_type": "stream",
     "text": [
      "Guava\n",
      "Pear\n",
      "Banana\n"
     ]
    }
   ],
   "source": [
    "print(mix_fruits[0])\n",
    "print(mix_fruits[3])\n",
    "print(mix_fruits[6])"
   ]
  },
  {
   "cell_type": "code",
   "execution_count": 9,
   "id": "ae9d933e",
   "metadata": {},
   "outputs": [],
   "source": [
    "mix_fruits.append('Dragon Fruit')"
   ]
  },
  {
   "cell_type": "code",
   "execution_count": 10,
   "id": "7692c7ab",
   "metadata": {},
   "outputs": [
    {
     "name": "stdout",
     "output_type": "stream",
     "text": [
      "['Guava', 'mango', 'apple', 'Pear', 'Fig', 'orange', 'Banana', 'Dragon Fruit']\n"
     ]
    }
   ],
   "source": [
    "print(mix_fruits)"
   ]
  },
  {
   "cell_type": "code",
   "execution_count": 11,
   "id": "c4ff5cc8",
   "metadata": {},
   "outputs": [
    {
     "name": "stdout",
     "output_type": "stream",
     "text": [
      "['Guava', 'mango', 'apple', 'Pear', 'cherry', 'Fig', 'orange', 'Banana', 'Dragon Fruit']\n"
     ]
    }
   ],
   "source": [
    "mix_fruits.insert(4,'cherry')\n",
    "print(mix_fruits)"
   ]
  },
  {
   "cell_type": "code",
   "execution_count": 12,
   "id": "3179b61a",
   "metadata": {},
   "outputs": [],
   "source": [
    "string = '-#-'\n",
    "out= string.join(mix_fruits)"
   ]
  },
  {
   "cell_type": "code",
   "execution_count": 13,
   "id": "25d22eae",
   "metadata": {},
   "outputs": [
    {
     "name": "stdout",
     "output_type": "stream",
     "text": [
      "Guava-#-mango-#-apple-#-Pear-#-cherry-#-Fig-#-orange-#-Banana-#-Dragon Fruit\n"
     ]
    }
   ],
   "source": [
    "print(out)"
   ]
  },
  {
   "cell_type": "code",
   "execution_count": 14,
   "id": "e8058844",
   "metadata": {},
   "outputs": [
    {
     "data": {
      "text/plain": [
       "True"
      ]
     },
     "execution_count": 14,
     "metadata": {},
     "output_type": "execute_result"
    }
   ],
   "source": [
    "'apple' in mix_fruits"
   ]
  },
  {
   "cell_type": "code",
   "execution_count": 15,
   "id": "ef23d47f",
   "metadata": {},
   "outputs": [
    {
     "name": "stdout",
     "output_type": "stream",
     "text": [
      "['Apple', 'Banana', 'Fig', 'Guava', 'Mango', 'Orange', 'Pear']\n"
     ]
    }
   ],
   "source": [
    "mix_fruits = ['Guava','Mango','Apple','Pear','Fig','Orange','Banana']\n",
    "mix_fruits.sort()\n",
    "print(mix_fruits)"
   ]
  },
  {
   "cell_type": "code",
   "execution_count": 16,
   "id": "3919762d",
   "metadata": {},
   "outputs": [
    {
     "name": "stdout",
     "output_type": "stream",
     "text": [
      "['Banana', 'Orange', 'Fig', 'Pear', 'Apple', 'Mango', 'Guava']\n"
     ]
    }
   ],
   "source": [
    "mix_fruits = ['Guava','Mango','Apple','Pear','Fig','Orange','Banana']\n",
    "mix_fruits.reverse()\n",
    "print(mix_fruits)"
   ]
  },
  {
   "cell_type": "code",
   "execution_count": 17,
   "id": "528fb7cd",
   "metadata": {},
   "outputs": [
    {
     "name": "stdout",
     "output_type": "stream",
     "text": [
      "['Guava', 'Mango', 'Apple']\n"
     ]
    }
   ],
   "source": [
    "mix_fruits = ['Guava','Mango','Apple','Pear','Fig','Orange','Banana']\n",
    "print(mix_fruits[0:3])"
   ]
  },
  {
   "cell_type": "code",
   "execution_count": 18,
   "id": "b5940bc7",
   "metadata": {},
   "outputs": [
    {
     "name": "stdout",
     "output_type": "stream",
     "text": [
      "['Fig', 'Orange', 'Banana']\n"
     ]
    }
   ],
   "source": [
    "mix_fruits = ['Guava','Mango','Apple','Pear','Fig','Orange','Banana']\n",
    "print(mix_fruits[-3:])"
   ]
  },
  {
   "cell_type": "code",
   "execution_count": 19,
   "id": "4dea4389",
   "metadata": {},
   "outputs": [
    {
     "name": "stdout",
     "output_type": "stream",
     "text": [
      "['Apple', 'Pear']\n"
     ]
    }
   ],
   "source": [
    "mix_fruits = ['Guava','Mango','Apple','Pear','Fig','Orange','Banana']\n",
    "print(mix_fruits[2:4])"
   ]
  },
  {
   "cell_type": "code",
   "execution_count": 20,
   "id": "b3f9bc1e",
   "metadata": {},
   "outputs": [
    {
     "name": "stdout",
     "output_type": "stream",
     "text": [
      "['Mango', 'Apple', 'Pear', 'Fig', 'Orange', 'Banana']\n"
     ]
    }
   ],
   "source": [
    "mix_fruits = ['Guava','Mango','Apple','Pear','Fig','Orange','Banana']\n",
    "mix_fruits.remove('Guava')\n",
    "print(mix_fruits)"
   ]
  },
  {
   "cell_type": "code",
   "execution_count": 21,
   "id": "07cd6f14",
   "metadata": {},
   "outputs": [
    {
     "name": "stdout",
     "output_type": "stream",
     "text": [
      "['Guava', 'Mango', 'Apple', 'Pear', 'Fig', 'Orange']\n"
     ]
    }
   ],
   "source": [
    "mix_fruits = ['Guava','Mango','Apple','Pear','Fig','Orange','Banana']\n",
    "mix_fruits.pop()\n",
    "print(mix_fruits)"
   ]
  },
  {
   "cell_type": "code",
   "execution_count": 22,
   "id": "4c567a02",
   "metadata": {},
   "outputs": [
    {
     "name": "stdout",
     "output_type": "stream",
     "text": [
      "['Guava', 'Mango', 'Pear', 'Fig', 'Orange', 'Banana']\n"
     ]
    }
   ],
   "source": [
    "mix_fruits = ['Guava','Mango','Apple','Pear','Fig','Orange','Banana']\n",
    "mix_fruits.remove('Apple')\n",
    "print(mix_fruits)"
   ]
  },
  {
   "cell_type": "code",
   "execution_count": 23,
   "id": "cdb53e4c",
   "metadata": {},
   "outputs": [
    {
     "name": "stdout",
     "output_type": "stream",
     "text": [
      "[]\n"
     ]
    }
   ],
   "source": [
    "mix_fruits = ['Guava','Mango','Apple','Pear','Fig','Orange','Banana']\n",
    "mix_fruits.clear()\n",
    "print(mix_fruits)"
   ]
  },
  {
   "cell_type": "code",
   "execution_count": 24,
   "id": "dda43011",
   "metadata": {},
   "outputs": [],
   "source": [
    "mix_fruits = ['Guava','Mango','Apple','Pear','Fig','Orange','Banana']\n",
    "del mix_fruits\n"
   ]
  },
  {
   "cell_type": "code",
   "execution_count": 25,
   "id": "0f499d10",
   "metadata": {},
   "outputs": [
    {
     "ename": "NameError",
     "evalue": "name 'mix_fruits' is not defined",
     "output_type": "error",
     "traceback": [
      "\u001b[1;31m---------------------------------------------------------------------------\u001b[0m",
      "\u001b[1;31mNameError\u001b[0m                                 Traceback (most recent call last)",
      "Cell \u001b[1;32mIn [25], line 1\u001b[0m\n\u001b[1;32m----> 1\u001b[0m \u001b[38;5;28mprint\u001b[39m(\u001b[43mmix_fruits\u001b[49m)\n",
      "\u001b[1;31mNameError\u001b[0m: name 'mix_fruits' is not defined"
     ]
    }
   ],
   "source": [
    "print(mix_fruits)"
   ]
  },
  {
   "cell_type": "code",
   "execution_count": null,
   "id": "e70744d3",
   "metadata": {},
   "outputs": [],
   "source": [
    "front_end = ['HTML', 'CSS', 'JS', 'React', 'Redux']\n",
    "back_end = ['Node','Express', 'MongoDB']\n",
    "\n",
    "full_stack = front_end + back_end"
   ]
  },
  {
   "cell_type": "code",
   "execution_count": 26,
   "id": "22a42cfa",
   "metadata": {},
   "outputs": [
    {
     "ename": "NameError",
     "evalue": "name 'full_stack' is not defined",
     "output_type": "error",
     "traceback": [
      "\u001b[1;31m---------------------------------------------------------------------------\u001b[0m",
      "\u001b[1;31mNameError\u001b[0m                                 Traceback (most recent call last)",
      "Cell \u001b[1;32mIn [26], line 1\u001b[0m\n\u001b[1;32m----> 1\u001b[0m \u001b[38;5;28mprint\u001b[39m(\u001b[43mfull_stack\u001b[49m)\n",
      "\u001b[1;31mNameError\u001b[0m: name 'full_stack' is not defined"
     ]
    }
   ],
   "source": [
    "print(full_stack)"
   ]
  },
  {
   "cell_type": "code",
   "execution_count": 27,
   "id": "6045c9c1",
   "metadata": {},
   "outputs": [
    {
     "ename": "NameError",
     "evalue": "name 'full_stack' is not defined",
     "output_type": "error",
     "traceback": [
      "\u001b[1;31m---------------------------------------------------------------------------\u001b[0m",
      "\u001b[1;31mNameError\u001b[0m                                 Traceback (most recent call last)",
      "Cell \u001b[1;32mIn [27], line 1\u001b[0m\n\u001b[1;32m----> 1\u001b[0m \u001b[43mfull_stack\u001b[49m\u001b[38;5;241m.\u001b[39minsert(\u001b[38;5;241m5\u001b[39m,\u001b[38;5;124m'\u001b[39m\u001b[38;5;124mPython\u001b[39m\u001b[38;5;124m'\u001b[39m)\n",
      "\u001b[1;31mNameError\u001b[0m: name 'full_stack' is not defined"
     ]
    }
   ],
   "source": [
    "full_stack.insert(5,'Python')"
   ]
  },
  {
   "cell_type": "code",
   "execution_count": 28,
   "id": "efe9e1f7",
   "metadata": {},
   "outputs": [
    {
     "ename": "NameError",
     "evalue": "name 'full_stack' is not defined",
     "output_type": "error",
     "traceback": [
      "\u001b[1;31m---------------------------------------------------------------------------\u001b[0m",
      "\u001b[1;31mNameError\u001b[0m                                 Traceback (most recent call last)",
      "Cell \u001b[1;32mIn [28], line 1\u001b[0m\n\u001b[1;32m----> 1\u001b[0m \u001b[43mfull_stack\u001b[49m\u001b[38;5;241m.\u001b[39minsert(\u001b[38;5;241m6\u001b[39m,\u001b[38;5;124m'\u001b[39m\u001b[38;5;124mSQL\u001b[39m\u001b[38;5;124m'\u001b[39m)\n",
      "\u001b[1;31mNameError\u001b[0m: name 'full_stack' is not defined"
     ]
    }
   ],
   "source": [
    "full_stack.insert(6,'SQL')"
   ]
  },
  {
   "cell_type": "code",
   "execution_count": 29,
   "id": "c7bb069a",
   "metadata": {},
   "outputs": [
    {
     "ename": "NameError",
     "evalue": "name 'full_stack' is not defined",
     "output_type": "error",
     "traceback": [
      "\u001b[1;31m---------------------------------------------------------------------------\u001b[0m",
      "\u001b[1;31mNameError\u001b[0m                                 Traceback (most recent call last)",
      "Cell \u001b[1;32mIn [29], line 1\u001b[0m\n\u001b[1;32m----> 1\u001b[0m \u001b[38;5;28mprint\u001b[39m(\u001b[43mfull_stack\u001b[49m)\n",
      "\u001b[1;31mNameError\u001b[0m: name 'full_stack' is not defined"
     ]
    }
   ],
   "source": [
    "print(full_stack)"
   ]
  },
  {
   "cell_type": "code",
   "execution_count": 30,
   "id": "2ca0d04e",
   "metadata": {},
   "outputs": [
    {
     "name": "stdout",
     "output_type": "stream",
     "text": [
      "[19, 19, 20, 21, 23, 24, 25, 25, 25, 26]\n"
     ]
    }
   ],
   "source": [
    "ages = [19, 23, 19, 25, 21, 20, 25, 26, 25, 24]\n",
    "ages.sort()\n",
    "print(ages)"
   ]
  },
  {
   "cell_type": "code",
   "execution_count": 31,
   "id": "682b42f2",
   "metadata": {},
   "outputs": [
    {
     "name": "stdout",
     "output_type": "stream",
     "text": [
      "26\n"
     ]
    }
   ],
   "source": [
    "print(max(ages))"
   ]
  },
  {
   "cell_type": "code",
   "execution_count": 32,
   "id": "1c415293",
   "metadata": {},
   "outputs": [
    {
     "name": "stdout",
     "output_type": "stream",
     "text": [
      "19\n"
     ]
    }
   ],
   "source": [
    "print(min(ages))"
   ]
  },
  {
   "cell_type": "code",
   "execution_count": 33,
   "id": "af315699",
   "metadata": {},
   "outputs": [
    {
     "name": "stdout",
     "output_type": "stream",
     "text": [
      "10\n"
     ]
    }
   ],
   "source": [
    "num= len(ages)\n",
    "print(num)"
   ]
  },
  {
   "cell_type": "code",
   "execution_count": 34,
   "id": "903daf86",
   "metadata": {},
   "outputs": [
    {
     "name": "stdout",
     "output_type": "stream",
     "text": [
      "24\n"
     ]
    }
   ],
   "source": [
    "mid = ages[5]\n",
    "print(mid)"
   ]
  },
  {
   "cell_type": "code",
   "execution_count": 35,
   "id": "b6047c66",
   "metadata": {},
   "outputs": [
    {
     "name": "stdout",
     "output_type": "stream",
     "text": [
      "12.0\n"
     ]
    }
   ],
   "source": [
    "median = mid/2\n",
    "print(median)"
   ]
  },
  {
   "cell_type": "code",
   "execution_count": 36,
   "id": "cda0fed1",
   "metadata": {},
   "outputs": [
    {
     "name": "stdout",
     "output_type": "stream",
     "text": [
      "227\n"
     ]
    }
   ],
   "source": [
    "sum = ages[0]+ages[1]+ages[2]+ages[3]+ages[4]+ages[5]+ages[6]+ages[7]+ages[8]+ages[9]\n",
    "print(sum)"
   ]
  },
  {
   "cell_type": "code",
   "execution_count": 37,
   "id": "f7c78275",
   "metadata": {},
   "outputs": [
    {
     "name": "stdout",
     "output_type": "stream",
     "text": [
      "The average age is  22.7\n"
     ]
    }
   ],
   "source": [
    "avg = sum/10\n",
    "print('The average age is ', avg)"
   ]
  },
  {
   "cell_type": "code",
   "execution_count": 38,
   "id": "8c17982e",
   "metadata": {},
   "outputs": [
    {
     "name": "stdout",
     "output_type": "stream",
     "text": [
      "26 - 19\n"
     ]
    }
   ],
   "source": [
    "range=print(max(ages),'-',min(ages))"
   ]
  },
  {
   "cell_type": "code",
   "execution_count": 39,
   "id": "4487ef7a",
   "metadata": {},
   "outputs": [],
   "source": [
    "min = min(ages)-avg\n",
    "max= max(ages)-avg"
   ]
  },
  {
   "cell_type": "code",
   "execution_count": 40,
   "id": "4d799c82",
   "metadata": {},
   "outputs": [
    {
     "name": "stdout",
     "output_type": "stream",
     "text": [
      "7.0\n"
     ]
    }
   ],
   "source": [
    "comp = min - max\n",
    "print(abs(comp))"
   ]
  },
  {
   "cell_type": "code",
   "execution_count": 41,
   "id": "3cd5453d",
   "metadata": {},
   "outputs": [
    {
     "name": "stdout",
     "output_type": "stream",
     "text": [
      "3.5\n",
      "3\n"
     ]
    }
   ],
   "source": [
    "countries = ['India', 'Russia', 'China', 'Finland', 'Sweden', 'Norway', 'Denmark']\n",
    "mid = len(countries)/2\n",
    "print(mid)\n",
    "abs_mid = int(mid)\n",
    "print(abs_mid)"
   ]
  },
  {
   "cell_type": "code",
   "execution_count": 42,
   "id": "15285252",
   "metadata": {},
   "outputs": [
    {
     "name": "stdout",
     "output_type": "stream",
     "text": [
      "Finland\n"
     ]
    }
   ],
   "source": [
    "print(countries[abs_mid])"
   ]
  },
  {
   "cell_type": "code",
   "execution_count": 43,
   "id": "e379ca55",
   "metadata": {},
   "outputs": [
    {
     "name": "stdout",
     "output_type": "stream",
     "text": [
      "['India', 'Russia', 'China', 'Finland', 'Sweden', 'Norway', 'Denmark', 'Nepal']\n"
     ]
    }
   ],
   "source": [
    "if len(countries)/2!=0:\n",
    "    countries.append('Nepal')\n",
    "print(countries)"
   ]
  },
  {
   "cell_type": "code",
   "execution_count": 44,
   "id": "02c9a1fd",
   "metadata": {},
   "outputs": [
    {
     "name": "stdout",
     "output_type": "stream",
     "text": [
      "4.0\n",
      "scandic=['Sweden', 'Norway', 'Denmark', 'Nepal']\n",
      "countries=['India', 'Russia', 'China', 'Finland']\n"
     ]
    }
   ],
   "source": [
    "half = len(countries)/2\n",
    "print(half)\n",
    "scandic= countries[int(half):]\n",
    "print(f'{scandic=}')\n",
    "countries = countries[0:int(half)]\n",
    "print(f'{countries=}')"
   ]
  },
  {
   "cell_type": "code",
   "execution_count": null,
   "id": "f1c0f72c",
   "metadata": {},
   "outputs": [],
   "source": []
  }
 ],
 "metadata": {
  "kernelspec": {
   "display_name": "Python 3 (ipykernel)",
   "language": "python",
   "name": "python3"
  },
  "language_info": {
   "codemirror_mode": {
    "name": "ipython",
    "version": 3
   },
   "file_extension": ".py",
   "mimetype": "text/x-python",
   "name": "python",
   "nbconvert_exporter": "python",
   "pygments_lexer": "ipython3",
   "version": "3.10.7"
  }
 },
 "nbformat": 4,
 "nbformat_minor": 5
}
