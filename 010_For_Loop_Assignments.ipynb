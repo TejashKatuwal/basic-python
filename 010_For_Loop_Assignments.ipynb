{
 "cells": [
  {
   "cell_type": "code",
   "execution_count": 2,
   "id": "6925586f",
   "metadata": {},
   "outputs": [
    {
     "name": "stdout",
     "output_type": "stream",
     "text": [
      "0\n",
      "1\n",
      "2\n",
      "3\n",
      "4\n",
      "5\n",
      "6\n",
      "7\n",
      "8\n",
      "9\n",
      "10\n"
     ]
    }
   ],
   "source": [
    "for i in range(0,11,1):\n",
    "    print(i)"
   ]
  },
  {
   "cell_type": "code",
   "execution_count": 4,
   "id": "d5478612",
   "metadata": {},
   "outputs": [
    {
     "name": "stdout",
     "output_type": "stream",
     "text": [
      "0\n",
      "1\n",
      "2\n",
      "3\n",
      "4\n",
      "5\n",
      "6\n",
      "7\n",
      "8\n",
      "9\n",
      "10\n"
     ]
    }
   ],
   "source": [
    "i=0\n",
    "while i < 11:\n",
    "    print(i)\n",
    "    i=i+1"
   ]
  },
  {
   "cell_type": "code",
   "execution_count": 6,
   "id": "a0c6fef6",
   "metadata": {},
   "outputs": [
    {
     "name": "stdout",
     "output_type": "stream",
     "text": [
      "10\n",
      "9\n",
      "8\n",
      "7\n",
      "6\n",
      "5\n",
      "4\n",
      "3\n",
      "2\n",
      "1\n",
      "0\n"
     ]
    }
   ],
   "source": [
    "for i in range(10,-1,-1):\n",
    "    print(i)"
   ]
  },
  {
   "cell_type": "code",
   "execution_count": 7,
   "id": "4015e72a",
   "metadata": {},
   "outputs": [
    {
     "name": "stdout",
     "output_type": "stream",
     "text": [
      "10\n",
      "9\n",
      "8\n",
      "7\n",
      "6\n",
      "5\n",
      "4\n",
      "3\n",
      "2\n",
      "1\n",
      "0\n"
     ]
    }
   ],
   "source": [
    "i = 10\n",
    "\n",
    "while i >=0 :\n",
    "    print(i)\n",
    "    i= i-1"
   ]
  },
  {
   "cell_type": "code",
   "execution_count": 11,
   "id": "9b802947",
   "metadata": {},
   "outputs": [
    {
     "name": "stdout",
     "output_type": "stream",
     "text": [
      "# # # # # # # #\n",
      "# # # # # # # #\n",
      "# # # # # # # #\n",
      "# # # # # # # #\n",
      "# # # # # # # #\n",
      "# # # # # # # #\n",
      "# # # # # # # #\n",
      "# # # # # # # #\n",
      "# # # # # # # #\n"
     ]
    }
   ],
   "source": [
    "for i in range(0,9,1):\n",
    "    print('# # # # # # # #')"
   ]
  },
  {
   "cell_type": "code",
   "execution_count": 24,
   "id": "ffc2ecc3",
   "metadata": {},
   "outputs": [
    {
     "name": "stdout",
     "output_type": "stream",
     "text": [
      "            # \n",
      "          # # # \n",
      "        # # # # # \n",
      "      # # # # # # # \n",
      "    # # # # # # # # # \n",
      "  # # # # # # # # # # # \n",
      "# # # # # # # # # # # # # \n"
     ]
    }
   ],
   "source": [
    "number_of_rows = 7\n",
    "\n",
    "for i in range(number_of_rows):\n",
    "    \n",
    "    for j in range(number_of_rows-i-1):\n",
    "        print(\" \",end= \" \")\n",
    "    \n",
    "    for m in range(2*i+1):\n",
    "        print('#', end = \" \")\n",
    "        \n",
    "    print()\n",
    "        "
   ]
  },
  {
   "cell_type": "code",
   "execution_count": 28,
   "id": "08b2d752",
   "metadata": {},
   "outputs": [
    {
     "name": "stdout",
     "output_type": "stream",
     "text": [
      "0*0=0\n",
      "1*1=1\n",
      "2*2=4\n",
      "3*3=9\n",
      "4*4=16\n",
      "5*5=25\n",
      "6*6=36\n",
      "7*7=49\n",
      "8*8=64\n",
      "9*9=81\n",
      "10*10=100\n"
     ]
    }
   ],
   "source": [
    "for i in range(0,11,1):\n",
    "    product = i*i\n",
    "    print(f'{i}*{i}={product}')"
   ]
  },
  {
   "cell_type": "code",
   "execution_count": 29,
   "id": "7ab8960b",
   "metadata": {},
   "outputs": [
    {
     "name": "stdout",
     "output_type": "stream",
     "text": [
      "Python\n",
      "Numpy\n",
      "Pandas\n",
      "Scikit\n",
      "Pytorch\n"
     ]
    }
   ],
   "source": [
    "list = ['Python', 'Numpy','Pandas','Scikit', 'Pytorch']\n",
    "\n",
    "for i in list:\n",
    "    print(i)"
   ]
  },
  {
   "cell_type": "code",
   "execution_count": 36,
   "id": "a57a1020",
   "metadata": {},
   "outputs": [
    {
     "name": "stdout",
     "output_type": "stream",
     "text": [
      "[0, 2, 4, 6, 8, 10, 12, 14, 16, 18, 20, 22, 24, 26, 28, 30, 32, 34, 36, 38, 40, 42, 44, 46, 48, 50, 52, 54, 56, 58, 60, 62, 64, 66, 68, 70, 72, 74, 76, 78, 80, 82, 84, 86, 88, 90, 92, 94, 96, 98, 100]\n"
     ]
    }
   ],
   "source": [
    "even =[]\n",
    "for i in range(0,101):\n",
    "    \n",
    "    if i % 2 == 0:\n",
    "        even.append(i)\n",
    "print(even)"
   ]
  },
  {
   "cell_type": "code",
   "execution_count": 37,
   "id": "d152d63d",
   "metadata": {},
   "outputs": [
    {
     "name": "stdout",
     "output_type": "stream",
     "text": [
      "[1, 3, 5, 7, 9, 11, 13, 15, 17, 19, 21, 23, 25, 27, 29, 31, 33, 35, 37, 39, 41, 43, 45, 47, 49, 51, 53, 55, 57, 59, 61, 63, 65, 67, 69, 71, 73, 75, 77, 79, 81, 83, 85, 87, 89, 91, 93, 95, 97, 99]\n"
     ]
    }
   ],
   "source": [
    "odd =[]\n",
    "for i in range(0,101):\n",
    "    \n",
    "    if i % 2 != 0:\n",
    "        odd.append(i)\n",
    "print(odd)"
   ]
  },
  {
   "cell_type": "code",
   "execution_count": 39,
   "id": "99954f5e",
   "metadata": {},
   "outputs": [
    {
     "name": "stdout",
     "output_type": "stream",
     "text": [
      "The sum of all numbers is 5050\n"
     ]
    }
   ],
   "source": [
    "sum = 0\n",
    "for i in range(0,101):\n",
    "    sum = sum + i\n",
    "    \n",
    "print(f'The sum of all numbers is {sum}')"
   ]
  },
  {
   "cell_type": "code",
   "execution_count": 40,
   "id": "a6bcd9f7",
   "metadata": {},
   "outputs": [
    {
     "name": "stdout",
     "output_type": "stream",
     "text": [
      "The sum of all evens is 2550. And the sum of all odds is 2500\n"
     ]
    }
   ],
   "source": [
    "even_sum = 0\n",
    "odd_sum = 0\n",
    "\n",
    "for i in range(0,101):\n",
    "    if i % 2 == 0:\n",
    "        even_sum = even_sum + i\n",
    "    else:\n",
    "        odd_sum = odd_sum + i\n",
    "        \n",
    "print(f'The sum of all evens is {even_sum}. And the sum of all odds is {odd_sum}')"
   ]
  },
  {
   "cell_type": "code",
   "execution_count": 44,
   "id": "2510d2e0",
   "metadata": {},
   "outputs": [
    {
     "name": "stdout",
     "output_type": "stream",
     "text": [
      "['lemon', 'mango', 'orange', 'banana']\n"
     ]
    }
   ],
   "source": [
    "fruits = ['banana', 'orange', 'mango', 'lemon']\n",
    "\n",
    "reverse = []\n",
    "\n",
    "for i in range(len(fruits)-1,-1,-1):\n",
    "    reverse.append(fruits[i])\n",
    "    \n",
    "print(reverse)"
   ]
  },
  {
   "cell_type": "code",
   "execution_count": null,
   "id": "52ac7c05",
   "metadata": {},
   "outputs": [],
   "source": []
  }
 ],
 "metadata": {
  "kernelspec": {
   "display_name": "Python 3 (ipykernel)",
   "language": "python",
   "name": "python3"
  },
  "language_info": {
   "codemirror_mode": {
    "name": "ipython",
    "version": 3
   },
   "file_extension": ".py",
   "mimetype": "text/x-python",
   "name": "python",
   "nbconvert_exporter": "python",
   "pygments_lexer": "ipython3",
   "version": "3.10.7"
  }
 },
 "nbformat": 4,
 "nbformat_minor": 5
}
