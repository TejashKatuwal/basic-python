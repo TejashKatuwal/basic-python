{
 "cells": [
  {
   "cell_type": "code",
   "execution_count": 1,
   "id": "4d20a904",
   "metadata": {},
   "outputs": [
    {
     "name": "stdout",
     "output_type": "stream",
     "text": [
      "{'Guava', 'Mango', 'Pear', 'Orange', 'Apple', 'Fig', 'Banana'}\n"
     ]
    }
   ],
   "source": [
    "mix_fruits = {'Guava', 'Pear', 'Mango', 'Apple', 'Fig', 'Orange', 'Banana'}\n",
    "print(mix_fruits)"
   ]
  },
  {
   "cell_type": "code",
   "execution_count": 2,
   "id": "5c5bcb51",
   "metadata": {},
   "outputs": [],
   "source": [
    "mix_fruits.add('kiwi')"
   ]
  },
  {
   "cell_type": "code",
   "execution_count": 3,
   "id": "25d59909",
   "metadata": {},
   "outputs": [
    {
     "name": "stdout",
     "output_type": "stream",
     "text": [
      "{'Guava', 'Mango', 'kiwi', 'Pear', 'Orange', 'Apple', 'Fig', 'Banana'}\n"
     ]
    }
   ],
   "source": [
    "print(mix_fruits)"
   ]
  },
  {
   "cell_type": "code",
   "execution_count": 6,
   "id": "2695cadd",
   "metadata": {},
   "outputs": [
    {
     "data": {
      "text/plain": [
       "(None, None)"
      ]
     },
     "execution_count": 6,
     "metadata": {},
     "output_type": "execute_result"
    }
   ],
   "source": [
    "mix_fruits.add('cherry'),mix_fruits.add('Papaya')"
   ]
  },
  {
   "cell_type": "code",
   "execution_count": 7,
   "id": "ffdadc5b",
   "metadata": {},
   "outputs": [
    {
     "name": "stdout",
     "output_type": "stream",
     "text": [
      "{'cherry', 'Guava', 'Papaya', 'Apple', 'Pear', 'Fig', 'Orange', 'Banana', 'Mango', 'kiwi'}\n"
     ]
    }
   ],
   "source": [
    "print(mix_fruits)"
   ]
  },
  {
   "cell_type": "code",
   "execution_count": 8,
   "id": "2179e2a6",
   "metadata": {},
   "outputs": [],
   "source": [
    "mix_fruits.discard('Papaya')"
   ]
  },
  {
   "cell_type": "code",
   "execution_count": 9,
   "id": "022cebad",
   "metadata": {},
   "outputs": [
    {
     "name": "stdout",
     "output_type": "stream",
     "text": [
      "{'cherry', 'Guava', 'Apple', 'Pear', 'Fig', 'Orange', 'Banana', 'Mango', 'kiwi'}\n"
     ]
    }
   ],
   "source": [
    "print(mix_fruits)"
   ]
  },
  {
   "cell_type": "markdown",
   "id": "b4ff87f5",
   "metadata": {},
   "source": [
    "remove() - Removes the member from the set and if the member is not present it raises a key error whereas discard() - removes the member from the set and does nothing if the member is not present in the set."
   ]
  },
  {
   "cell_type": "code",
   "execution_count": 10,
   "id": "a6d4d087",
   "metadata": {},
   "outputs": [],
   "source": [
    "A = {19, 22, 24, 20, 25, 26}\n",
    "B = {19, 22, 20, 25, 26, 24, 28, 27}"
   ]
  },
  {
   "cell_type": "code",
   "execution_count": 11,
   "id": "d259c748",
   "metadata": {},
   "outputs": [
    {
     "name": "stdout",
     "output_type": "stream",
     "text": [
      "{19, 20, 22, 24, 25, 26, 27, 28}\n"
     ]
    }
   ],
   "source": [
    "A_or_B = A|B\n",
    "print(A_or_B)"
   ]
  },
  {
   "cell_type": "code",
   "execution_count": 12,
   "id": "28164421",
   "metadata": {},
   "outputs": [
    {
     "name": "stdout",
     "output_type": "stream",
     "text": [
      "{19, 20, 22, 24, 25, 26}\n"
     ]
    }
   ],
   "source": [
    "A_and_B = A & B\n",
    "print(A_and_B)"
   ]
  },
  {
   "cell_type": "code",
   "execution_count": 14,
   "id": "6687c707",
   "metadata": {},
   "outputs": [
    {
     "name": "stdout",
     "output_type": "stream",
     "text": [
      "True\n"
     ]
    }
   ],
   "source": [
    "subset = (A<=B)\n",
    "print(subset)"
   ]
  },
  {
   "cell_type": "code",
   "execution_count": 16,
   "id": "444b756d",
   "metadata": {},
   "outputs": [
    {
     "name": "stdout",
     "output_type": "stream",
     "text": [
      "False\n"
     ]
    }
   ],
   "source": [
    "print(A.isdisjoint(B))"
   ]
  },
  {
   "cell_type": "code",
   "execution_count": 17,
   "id": "ed4e066c",
   "metadata": {},
   "outputs": [
    {
     "name": "stdout",
     "output_type": "stream",
     "text": [
      "{19, 20, 22, 24, 25, 26, 27, 28}\n",
      "{19, 20, 22, 24, 25, 26, 27, 28}\n"
     ]
    }
   ],
   "source": [
    "A_or_B = A|B\n",
    "print(A_or_B)\n",
    "B_or_A = B|A\n",
    "print(B_or_A)"
   ]
  },
  {
   "cell_type": "code",
   "execution_count": 18,
   "id": "59b6d1e0",
   "metadata": {},
   "outputs": [
    {
     "name": "stdout",
     "output_type": "stream",
     "text": [
      "{27, 28}\n"
     ]
    }
   ],
   "source": [
    "symmetric =  A^B\n",
    "print(symmetric)"
   ]
  },
  {
   "cell_type": "code",
   "execution_count": 19,
   "id": "39212360",
   "metadata": {},
   "outputs": [],
   "source": [
    "del A\n",
    "del B"
   ]
  },
  {
   "cell_type": "code",
   "execution_count": 20,
   "id": "3ae52913",
   "metadata": {},
   "outputs": [
    {
     "ename": "NameError",
     "evalue": "name 'A' is not defined",
     "output_type": "error",
     "traceback": [
      "\u001b[1;31m---------------------------------------------------------------------------\u001b[0m",
      "\u001b[1;31mNameError\u001b[0m                                 Traceback (most recent call last)",
      "Cell \u001b[1;32mIn [20], line 1\u001b[0m\n\u001b[1;32m----> 1\u001b[0m \u001b[38;5;28mprint\u001b[39m(\u001b[43mA\u001b[49m,B)\n",
      "\u001b[1;31mNameError\u001b[0m: name 'A' is not defined"
     ]
    }
   ],
   "source": [
    "print(A)"
   ]
  },
  {
   "cell_type": "code",
   "execution_count": 21,
   "id": "18a7cf59",
   "metadata": {},
   "outputs": [
    {
     "ename": "NameError",
     "evalue": "name 'B' is not defined",
     "output_type": "error",
     "traceback": [
      "\u001b[1;31m---------------------------------------------------------------------------\u001b[0m",
      "\u001b[1;31mNameError\u001b[0m                                 Traceback (most recent call last)",
      "Cell \u001b[1;32mIn [21], line 1\u001b[0m\n\u001b[1;32m----> 1\u001b[0m \u001b[38;5;28mprint\u001b[39m(\u001b[43mB\u001b[49m)\n",
      "\u001b[1;31mNameError\u001b[0m: name 'B' is not defined"
     ]
    }
   ],
   "source": [
    "print(B)"
   ]
  },
  {
   "cell_type": "code",
   "execution_count": 22,
   "id": "99bf727e",
   "metadata": {},
   "outputs": [],
   "source": [
    "num = [22, 19, 24, 25, 26, 24, 25, 24]"
   ]
  },
  {
   "cell_type": "code",
   "execution_count": 23,
   "id": "424d023d",
   "metadata": {},
   "outputs": [],
   "source": [
    "num_set = set(num)"
   ]
  },
  {
   "cell_type": "code",
   "execution_count": 24,
   "id": "057693c6",
   "metadata": {},
   "outputs": [
    {
     "name": "stdout",
     "output_type": "stream",
     "text": [
      "{19, 22, 24, 25, 26}\n"
     ]
    }
   ],
   "source": [
    "print(num_set)"
   ]
  },
  {
   "cell_type": "code",
   "execution_count": 27,
   "id": "240e7186",
   "metadata": {},
   "outputs": [
    {
     "name": "stdout",
     "output_type": "stream",
     "text": [
      "8\n",
      "5\n"
     ]
    }
   ],
   "source": [
    "print(len(num)) \n",
    "print(len(num_set))\n",
    "\n"
   ]
  },
  {
   "cell_type": "code",
   "execution_count": 28,
   "id": "d6a4ab74",
   "metadata": {},
   "outputs": [
    {
     "data": {
      "text/plain": [
       "True"
      ]
     },
     "execution_count": 28,
     "metadata": {},
     "output_type": "execute_result"
    }
   ],
   "source": [
    "len(num) > len(num_set)"
   ]
  },
  {
   "cell_type": "markdown",
   "id": "ca67fca8",
   "metadata": {},
   "source": [
    "LIST IS BIGGER BECAUSE SET DOES NOT TAKE DUPLICATE VALUES."
   ]
  },
  {
   "cell_type": "markdown",
   "id": "b4a76f3e",
   "metadata": {},
   "source": [
    "LIST, SET AND DICTIONARY ARE MUTABLE BUT TUPLE IS UNMUTABLE.\n"
   ]
  },
  {
   "cell_type": "markdown",
   "id": "a15f57ba",
   "metadata": {},
   "source": [
    "LIST , TUPLE AND DICTIONARY TAKES DUPLICATE VALUES BUT SET DOES NOT.\n"
   ]
  },
  {
   "cell_type": "markdown",
   "id": "ca6cca04",
   "metadata": {},
   "source": [
    "DICTIONARY HAS KEY VALUE PAIRS.\n"
   ]
  },
  {
   "cell_type": "markdown",
   "id": "bbc315d1",
   "metadata": {},
   "source": [
    "LIST IS USED TO RECORD SIMILAR ITEMS.\n"
   ]
  },
  {
   "cell_type": "markdown",
   "id": "523e1daa",
   "metadata": {},
   "source": [
    "TUPLE IS USED TO STORE DIFFERENT TYPES OF ITEMS."
   ]
  },
  {
   "cell_type": "code",
   "execution_count": 30,
   "id": "a7f5950e",
   "metadata": {},
   "outputs": [
    {
     "name": "stdout",
     "output_type": "stream",
     "text": [
      "69\n"
     ]
    }
   ],
   "source": [
    "string = 'I am a researcher cum teacher and I love to inspire and teach people.'\n",
    "print(len(string))"
   ]
  },
  {
   "cell_type": "code",
   "execution_count": 36,
   "id": "961fbae5",
   "metadata": {},
   "outputs": [],
   "source": [
    "str_list=string.split(' ')"
   ]
  },
  {
   "cell_type": "code",
   "execution_count": 37,
   "id": "268304f0",
   "metadata": {},
   "outputs": [
    {
     "name": "stdout",
     "output_type": "stream",
     "text": [
      "['I', 'am', 'a', 'researcher', 'cum', 'teacher', 'and', 'I', 'love', 'to', 'inspire', 'and', 'teach', 'people.']\n"
     ]
    }
   ],
   "source": [
    "print(str_list)"
   ]
  },
  {
   "cell_type": "code",
   "execution_count": 38,
   "id": "857ba2ba",
   "metadata": {},
   "outputs": [],
   "source": [
    "str_set = set(str_list)"
   ]
  },
  {
   "cell_type": "code",
   "execution_count": 39,
   "id": "c34d26e9",
   "metadata": {},
   "outputs": [
    {
     "name": "stdout",
     "output_type": "stream",
     "text": [
      "{'a', 'love', 'researcher', 'teach', 'people.', 'I', 'teacher', 'to', 'and', 'inspire', 'cum', 'am'}\n"
     ]
    }
   ],
   "source": [
    "print(str_set)"
   ]
  },
  {
   "cell_type": "code",
   "execution_count": 40,
   "id": "52aa908b",
   "metadata": {},
   "outputs": [
    {
     "name": "stdout",
     "output_type": "stream",
     "text": [
      "12\n"
     ]
    }
   ],
   "source": [
    "print(len(str_set))"
   ]
  },
  {
   "cell_type": "code",
   "execution_count": null,
   "id": "c468b93a",
   "metadata": {},
   "outputs": [],
   "source": []
  }
 ],
 "metadata": {
  "kernelspec": {
   "display_name": "Python 3 (ipykernel)",
   "language": "python",
   "name": "python3"
  },
  "language_info": {
   "codemirror_mode": {
    "name": "ipython",
    "version": 3
   },
   "file_extension": ".py",
   "mimetype": "text/x-python",
   "name": "python",
   "nbconvert_exporter": "python",
   "pygments_lexer": "ipython3",
   "version": "3.10.7"
  }
 },
 "nbformat": 4,
 "nbformat_minor": 5
}
