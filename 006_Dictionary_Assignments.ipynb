{
 "cells": [
  {
   "cell_type": "code",
   "execution_count": 1,
   "id": "1f03c987",
   "metadata": {},
   "outputs": [],
   "source": [
    "bird = {}"
   ]
  },
  {
   "cell_type": "code",
   "execution_count": 2,
   "id": "8295dae1",
   "metadata": {},
   "outputs": [
    {
     "name": "stdout",
     "output_type": "stream",
     "text": [
      "{}\n"
     ]
    }
   ],
   "source": [
    "print(bird)"
   ]
  },
  {
   "cell_type": "code",
   "execution_count": 5,
   "id": "9dc220ac",
   "metadata": {},
   "outputs": [],
   "source": [
    "bird = dict([('name','Crowbro'),('breed','Crow'),('legs',2),('age',4)])"
   ]
  },
  {
   "cell_type": "code",
   "execution_count": 6,
   "id": "df0d8bff",
   "metadata": {},
   "outputs": [
    {
     "name": "stdout",
     "output_type": "stream",
     "text": [
      "{'name': 'Crowbro', 'breed': 'Crow', 'legs': 2, 'age': 4}\n"
     ]
    }
   ],
   "source": [
    "print(bird)"
   ]
  },
  {
   "cell_type": "code",
   "execution_count": 7,
   "id": "d0b527b5",
   "metadata": {},
   "outputs": [
    {
     "name": "stdout",
     "output_type": "stream",
     "text": [
      "{'first_name': 'Tejash', 'last_name': 'Katuwal', 'gender': 'Male', 'age': 22, 'martial_status': 'Unmarried', 'skills': ['Python', 'Oracle', 'SQL'], 'Country': 'Nepal', 'City': 'Imadol', 'address': 'Mahalaxmisthan'}\n"
     ]
    }
   ],
   "source": [
    "student = {\n",
    "    \"first_name\" : 'Tejash',\n",
    "    \"last_name\" : 'Katuwal',\n",
    "    \"gender\" : 'Male',\n",
    "    \"age\" : 22,\n",
    "    \"martial_status\" : 'Unmarried',\n",
    "    \"skills\" : ['Python','Oracle','SQL'],\n",
    "    \"Country\" : 'Nepal',\n",
    "    \"City\" : 'Imadol',\n",
    "    \"address\" : 'Mahalaxmisthan'\n",
    "} \n",
    "\n",
    "print(student)"
   ]
  },
  {
   "cell_type": "code",
   "execution_count": 8,
   "id": "51db1deb",
   "metadata": {},
   "outputs": [
    {
     "name": "stdout",
     "output_type": "stream",
     "text": [
      "9\n"
     ]
    }
   ],
   "source": [
    "print(len(student))"
   ]
  },
  {
   "cell_type": "code",
   "execution_count": 9,
   "id": "f88d3d19",
   "metadata": {},
   "outputs": [
    {
     "name": "stdout",
     "output_type": "stream",
     "text": [
      "['Python', 'Oracle', 'SQL']\n"
     ]
    }
   ],
   "source": [
    "print(student['skills'])"
   ]
  },
  {
   "cell_type": "code",
   "execution_count": 10,
   "id": "bf73e064",
   "metadata": {},
   "outputs": [
    {
     "name": "stdout",
     "output_type": "stream",
     "text": [
      "<class 'list'>\n"
     ]
    }
   ],
   "source": [
    "print(type(student['skills']))"
   ]
  },
  {
   "cell_type": "code",
   "execution_count": 11,
   "id": "e14706fd",
   "metadata": {},
   "outputs": [],
   "source": [
    "student['skills'].append('C')"
   ]
  },
  {
   "cell_type": "code",
   "execution_count": 12,
   "id": "13977af5",
   "metadata": {},
   "outputs": [
    {
     "name": "stdout",
     "output_type": "stream",
     "text": [
      "{'first_name': 'Tejash', 'last_name': 'Katuwal', 'gender': 'Male', 'age': 22, 'martial_status': 'Unmarried', 'skills': ['Python', 'Oracle', 'SQL', 'C'], 'Country': 'Nepal', 'City': 'Imadol', 'address': 'Mahalaxmisthan'}\n"
     ]
    }
   ],
   "source": [
    "print(student)"
   ]
  },
  {
   "cell_type": "code",
   "execution_count": 13,
   "id": "2611ade6",
   "metadata": {},
   "outputs": [
    {
     "name": "stdout",
     "output_type": "stream",
     "text": [
      "dict_keys(['first_name', 'last_name', 'gender', 'age', 'martial_status', 'skills', 'Country', 'City', 'address'])\n",
      "dict_values(['Tejash', 'Katuwal', 'Male', 22, 'Unmarried', ['Python', 'Oracle', 'SQL', 'C'], 'Nepal', 'Imadol', 'Mahalaxmisthan'])\n"
     ]
    }
   ],
   "source": [
    "print(student.keys())\n",
    "print(student.values())"
   ]
  },
  {
   "cell_type": "code",
   "execution_count": 14,
   "id": "712601e7",
   "metadata": {},
   "outputs": [
    {
     "name": "stdout",
     "output_type": "stream",
     "text": [
      "dict_items([('first_name', 'Tejash'), ('last_name', 'Katuwal'), ('gender', 'Male'), ('age', 22), ('martial_status', 'Unmarried'), ('skills', ['Python', 'Oracle', 'SQL', 'C']), ('Country', 'Nepal'), ('City', 'Imadol'), ('address', 'Mahalaxmisthan')])\n"
     ]
    }
   ],
   "source": [
    "print(student.items())"
   ]
  },
  {
   "cell_type": "code",
   "execution_count": 15,
   "id": "af3d4e9a",
   "metadata": {},
   "outputs": [
    {
     "name": "stdout",
     "output_type": "stream",
     "text": [
      "Unmarried\n"
     ]
    }
   ],
   "source": [
    "print(student.pop('martial_status'))"
   ]
  },
  {
   "cell_type": "code",
   "execution_count": 16,
   "id": "204dce7f",
   "metadata": {},
   "outputs": [
    {
     "name": "stdout",
     "output_type": "stream",
     "text": [
      "{'first_name': 'Tejash', 'last_name': 'Katuwal', 'gender': 'Male', 'age': 22, 'skills': ['Python', 'Oracle', 'SQL', 'C'], 'Country': 'Nepal', 'City': 'Imadol', 'address': 'Mahalaxmisthan'}\n"
     ]
    }
   ],
   "source": [
    "print(student)"
   ]
  },
  {
   "cell_type": "code",
   "execution_count": 17,
   "id": "384bab63",
   "metadata": {},
   "outputs": [],
   "source": [
    "del bird"
   ]
  },
  {
   "cell_type": "code",
   "execution_count": 18,
   "id": "d235ff6c",
   "metadata": {},
   "outputs": [
    {
     "ename": "NameError",
     "evalue": "name 'bird' is not defined",
     "output_type": "error",
     "traceback": [
      "\u001b[1;31m---------------------------------------------------------------------------\u001b[0m",
      "\u001b[1;31mNameError\u001b[0m                                 Traceback (most recent call last)",
      "Cell \u001b[1;32mIn [18], line 1\u001b[0m\n\u001b[1;32m----> 1\u001b[0m \u001b[38;5;28mprint\u001b[39m(\u001b[43mbird\u001b[49m)\n",
      "\u001b[1;31mNameError\u001b[0m: name 'bird' is not defined"
     ]
    }
   ],
   "source": [
    "print(bird)"
   ]
  },
  {
   "cell_type": "code",
   "execution_count": null,
   "id": "445f4f4c",
   "metadata": {},
   "outputs": [],
   "source": []
  }
 ],
 "metadata": {
  "kernelspec": {
   "display_name": "Python 3 (ipykernel)",
   "language": "python",
   "name": "python3"
  },
  "language_info": {
   "codemirror_mode": {
    "name": "ipython",
    "version": 3
   },
   "file_extension": ".py",
   "mimetype": "text/x-python",
   "name": "python",
   "nbconvert_exporter": "python",
   "pygments_lexer": "ipython3",
   "version": "3.10.7"
  }
 },
 "nbformat": 4,
 "nbformat_minor": 5
}
