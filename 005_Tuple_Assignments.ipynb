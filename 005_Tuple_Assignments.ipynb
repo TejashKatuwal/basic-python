{
 "cells": [
  {
   "cell_type": "code",
   "execution_count": null,
   "id": "f123921f",
   "metadata": {},
   "outputs": [],
   "source": []
  },
  {
   "cell_type": "code",
   "execution_count": 5,
   "id": "9958dede",
   "metadata": {},
   "outputs": [],
   "source": [
    "fruits= ('Apple','Banana','Cherry','Orange','Mango')\n",
    "vegetables= ('Pumpkin','Potato','Tomato','Spinach','Cabbage')\n"
   ]
  },
  {
   "cell_type": "code",
   "execution_count": 6,
   "id": "00f87b25",
   "metadata": {},
   "outputs": [
    {
     "name": "stdout",
     "output_type": "stream",
     "text": [
      "('Apple', 'Banana', 'Cherry', 'Orange', 'Mango', 'Pumpkin', 'Potato', 'Tomato', 'Spinach', 'Cabbage')\n"
     ]
    }
   ],
   "source": [
    "fruits_vegetables= fruits + vegetables\n",
    "print(fruits_vegetables)"
   ]
  },
  {
   "cell_type": "code",
   "execution_count": 7,
   "id": "60ada6f4",
   "metadata": {},
   "outputs": [
    {
     "name": "stdout",
     "output_type": "stream",
     "text": [
      "10\n"
     ]
    }
   ],
   "source": [
    "print(len(fruits_vegetables))"
   ]
  },
  {
   "cell_type": "code",
   "execution_count": 11,
   "id": "38d00aa7",
   "metadata": {},
   "outputs": [
    {
     "name": "stdout",
     "output_type": "stream",
     "text": [
      "food_tuple = ('Apple', 'Banana', 'Cherry', 'Orange', 'Mango', 'Pumpkin', 'Potato', 'Tomato', 'Spinach', 'Cabbage', 'Shiitake Mushroom', 'Cococola')\n"
     ]
    }
   ],
   "source": [
    "add = ('Shiitake Mushroom','Cococola')\n",
    "food_tuple =  fruits_vegetables + add\n",
    "print(f'{food_tuple = }')"
   ]
  },
  {
   "cell_type": "code",
   "execution_count": 14,
   "id": "8b637115",
   "metadata": {},
   "outputs": [
    {
     "name": "stdout",
     "output_type": "stream",
     "text": [
      "first_tuple = ['Apple', 'Banana', 'Cherry', 'Orange', 'Mango', 'Pumpkin', 'Potato', 'Tomato', 'Spinach', 'Cabbage']\n",
      "mushroom = 'Shiitake Mushroom'\n",
      "drink = 'Cococola'\n"
     ]
    }
   ],
   "source": [
    "(*first_tuple,mushroom,drink)= food_tuple\n",
    "\n",
    "print(f'{first_tuple = }')\n",
    "print(f'{mushroom = }')\n",
    "print(f'{drink = }')"
   ]
  },
  {
   "cell_type": "code",
   "execution_count": 15,
   "id": "980ebef6",
   "metadata": {},
   "outputs": [],
   "source": [
    "food_list = list(food_tuple)"
   ]
  },
  {
   "cell_type": "code",
   "execution_count": 16,
   "id": "a89a50e7",
   "metadata": {},
   "outputs": [
    {
     "name": "stdout",
     "output_type": "stream",
     "text": [
      "['Apple', 'Banana', 'Cherry', 'Orange', 'Mango', 'Pumpkin', 'Potato', 'Tomato', 'Spinach', 'Cabbage', 'Shiitake Mushroom', 'Cococola']\n"
     ]
    }
   ],
   "source": [
    "print(food_list)"
   ]
  },
  {
   "cell_type": "code",
   "execution_count": 17,
   "id": "c4377a0d",
   "metadata": {},
   "outputs": [
    {
     "name": "stdout",
     "output_type": "stream",
     "text": [
      "['Mango', 'Pumpkin']\n"
     ]
    }
   ],
   "source": [
    "print(food_list[4:6])"
   ]
  },
  {
   "cell_type": "code",
   "execution_count": 18,
   "id": "6cb8d5a6",
   "metadata": {},
   "outputs": [
    {
     "name": "stdout",
     "output_type": "stream",
     "text": [
      "('Apple', 'Banana', 'Cherry')\n"
     ]
    }
   ],
   "source": [
    "print(food_tuple[0:3])"
   ]
  },
  {
   "cell_type": "code",
   "execution_count": 19,
   "id": "7f328518",
   "metadata": {},
   "outputs": [
    {
     "name": "stdout",
     "output_type": "stream",
     "text": [
      "('Cabbage', 'Shiitake Mushroom', 'Cococola')\n"
     ]
    }
   ],
   "source": [
    "print(food_tuple[-3:])"
   ]
  },
  {
   "cell_type": "code",
   "execution_count": 20,
   "id": "3ff173d5",
   "metadata": {},
   "outputs": [],
   "source": [
    "del food_tuple"
   ]
  },
  {
   "cell_type": "code",
   "execution_count": 21,
   "id": "b592baf8",
   "metadata": {},
   "outputs": [
    {
     "ename": "NameError",
     "evalue": "name 'food_tuple' is not defined",
     "output_type": "error",
     "traceback": [
      "\u001b[1;31m---------------------------------------------------------------------------\u001b[0m",
      "\u001b[1;31mNameError\u001b[0m                                 Traceback (most recent call last)",
      "Cell \u001b[1;32mIn [21], line 1\u001b[0m\n\u001b[1;32m----> 1\u001b[0m \u001b[38;5;28mprint\u001b[39m(\u001b[43mfood_tuple\u001b[49m)\n",
      "\u001b[1;31mNameError\u001b[0m: name 'food_tuple' is not defined"
     ]
    }
   ],
   "source": [
    "print(food_tuple)"
   ]
  },
  {
   "cell_type": "code",
   "execution_count": 22,
   "id": "08507ba2",
   "metadata": {},
   "outputs": [],
   "source": [
    "asian_countries = ('India','China','Singapore','Thailand','Indonesia')"
   ]
  },
  {
   "cell_type": "code",
   "execution_count": 23,
   "id": "21a163f3",
   "metadata": {},
   "outputs": [
    {
     "data": {
      "text/plain": [
       "False"
      ]
     },
     "execution_count": 23,
     "metadata": {},
     "output_type": "execute_result"
    }
   ],
   "source": [
    "'Finland' in asian_countries"
   ]
  },
  {
   "cell_type": "code",
   "execution_count": 24,
   "id": "0efc369a",
   "metadata": {},
   "outputs": [
    {
     "data": {
      "text/plain": [
       "True"
      ]
     },
     "execution_count": 24,
     "metadata": {},
     "output_type": "execute_result"
    }
   ],
   "source": [
    "'India' in asian_countries"
   ]
  },
  {
   "cell_type": "code",
   "execution_count": null,
   "id": "21efbd8c",
   "metadata": {},
   "outputs": [],
   "source": []
  }
 ],
 "metadata": {
  "kernelspec": {
   "display_name": "Python 3 (ipykernel)",
   "language": "python",
   "name": "python3"
  },
  "language_info": {
   "codemirror_mode": {
    "name": "ipython",
    "version": 3
   },
   "file_extension": ".py",
   "mimetype": "text/x-python",
   "name": "python",
   "nbconvert_exporter": "python",
   "pygments_lexer": "ipython3",
   "version": "3.10.7"
  }
 },
 "nbformat": 4,
 "nbformat_minor": 5
}
