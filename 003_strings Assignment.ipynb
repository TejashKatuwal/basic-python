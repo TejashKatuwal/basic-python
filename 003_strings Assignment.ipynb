{
 "cells": [
  {
   "cell_type": "code",
   "execution_count": 4,
   "id": "926af439",
   "metadata": {},
   "outputs": [
    {
     "name": "stdout",
     "output_type": "stream",
     "text": [
      "Python 4 Data Science\n"
     ]
    }
   ],
   "source": [
    "\n",
    "print('Python'+' '+'4'+' '+'Data'+' '+'Science')"
   ]
  },
  {
   "cell_type": "code",
   "execution_count": 5,
   "id": "78e4508a",
   "metadata": {},
   "outputs": [
    {
     "name": "stdout",
     "output_type": "stream",
     "text": [
      "21\n"
     ]
    }
   ],
   "source": [
    "course = 'Python 4 Data Science'\n",
    "print(len(course))"
   ]
  },
  {
   "cell_type": "code",
   "execution_count": 6,
   "id": "d8614003",
   "metadata": {},
   "outputs": [
    {
     "name": "stdout",
     "output_type": "stream",
     "text": [
      "PYTHON 4 DATA SCIENCE\n"
     ]
    }
   ],
   "source": [
    "print(course.upper())"
   ]
  },
  {
   "cell_type": "code",
   "execution_count": 7,
   "id": "19097dab",
   "metadata": {},
   "outputs": [
    {
     "name": "stdout",
     "output_type": "stream",
     "text": [
      "python 4 data science\n"
     ]
    }
   ],
   "source": [
    "print(course.lower())"
   ]
  },
  {
   "cell_type": "code",
   "execution_count": 8,
   "id": "6404c57f",
   "metadata": {},
   "outputs": [
    {
     "name": "stdout",
     "output_type": "stream",
     "text": [
      "Python 4 data science\n"
     ]
    }
   ],
   "source": [
    "course = 'python 4 Data Science'\n",
    "print(course.capitalize())"
   ]
  },
  {
   "cell_type": "code",
   "execution_count": 9,
   "id": "2af587b6",
   "metadata": {},
   "outputs": [
    {
     "name": "stdout",
     "output_type": "stream",
     "text": [
      "Python 4 Data Science\n"
     ]
    }
   ],
   "source": [
    "course = 'Python 4 data science'\n",
    "print(course.title())"
   ]
  },
  {
   "cell_type": "code",
   "execution_count": 10,
   "id": "8c97b8dc",
   "metadata": {},
   "outputs": [
    {
     "name": "stdout",
     "output_type": "stream",
     "text": [
      "pYTHON 4 dATA sCIENCE\n"
     ]
    }
   ],
   "source": [
    "course = 'Python 4 Data Science'\n",
    "print(course.swapcase())"
   ]
  },
  {
   "cell_type": "code",
   "execution_count": 11,
   "id": "b88f7727",
   "metadata": {},
   "outputs": [
    {
     "name": "stdout",
     "output_type": "stream",
     "text": [
      "4 Data Science\n"
     ]
    }
   ],
   "source": [
    "print(course[7:])"
   ]
  },
  {
   "cell_type": "code",
   "execution_count": 12,
   "id": "6d4be5f7",
   "metadata": {},
   "outputs": [
    {
     "name": "stdout",
     "output_type": "stream",
     "text": [
      "0\n",
      "index of 'python' in course :  0\n"
     ]
    }
   ],
   "source": [
    "course = 'Python 4 Data Science'\n",
    "print(course.find('Python'))\n",
    "print(\"index of 'python' in course : \", course.index('Python'))"
   ]
  },
  {
   "cell_type": "code",
   "execution_count": 13,
   "id": "dc2da613",
   "metadata": {},
   "outputs": [
    {
     "name": "stdout",
     "output_type": "stream",
     "text": [
      "Python 4 Everybody\n"
     ]
    }
   ],
   "source": [
    "course='Python 4 Data Science'\n",
    "print(course.replace('Data Science', 'Everybody'))\n"
   ]
  },
  {
   "cell_type": "code",
   "execution_count": 14,
   "id": "8af56e1d",
   "metadata": {},
   "outputs": [
    {
     "name": "stdout",
     "output_type": "stream",
     "text": [
      "['Python', '4', 'Data', 'Science']\n"
     ]
    }
   ],
   "source": [
    "print(course.split(' '))"
   ]
  },
  {
   "cell_type": "code",
   "execution_count": 15,
   "id": "217bf997",
   "metadata": {},
   "outputs": [
    {
     "name": "stdout",
     "output_type": "stream",
     "text": [
      "['Google', ' Facebook', ' Microsoft', ' Apple', ' IBM', ' Oracle', ' Amazon']\n"
     ]
    }
   ],
   "source": [
    "Social='Google, Facebook, Microsoft, Apple, IBM, Oracle, Amazon'\n",
    "print(Social.split(','))"
   ]
  },
  {
   "cell_type": "code",
   "execution_count": 17,
   "id": "176d017b",
   "metadata": {},
   "outputs": [
    {
     "name": "stdout",
     "output_type": "stream",
     "text": [
      "D\n"
     ]
    }
   ],
   "source": [
    "course='Python 4 Data Science'\n",
    "print(course[9])"
   ]
  },
  {
   "cell_type": "code",
   "execution_count": 18,
   "id": "a9067611",
   "metadata": {},
   "outputs": [
    {
     "name": "stdout",
     "output_type": "stream",
     "text": [
      "c\n"
     ]
    }
   ],
   "source": [
    "course='Python 4 Data Science'\n",
    "print(course[-2])"
   ]
  },
  {
   "cell_type": "code",
   "execution_count": 19,
   "id": "2cd16a75",
   "metadata": {},
   "outputs": [
    {
     "name": "stdout",
     "output_type": "stream",
     "text": [
      "9\n"
     ]
    }
   ],
   "source": [
    "course='Python 4 Data Science'\n",
    "print(course.index('D'))"
   ]
  },
  {
   "cell_type": "code",
   "execution_count": 20,
   "id": "4cccc1fe",
   "metadata": {},
   "outputs": [
    {
     "name": "stdout",
     "output_type": "stream",
     "text": [
      "20\n"
     ]
    }
   ],
   "source": [
    "course='Python 4 Data Science'\n",
    "print(course.rfind('e'))"
   ]
  },
  {
   "cell_type": "code",
   "execution_count": 21,
   "id": "78956be4",
   "metadata": {},
   "outputs": [
    {
     "name": "stdout",
     "output_type": "stream",
     "text": [
      "33\n"
     ]
    }
   ],
   "source": [
    "print('We cannot end the sentence with ‘because’, because ‘because’ is a conjunction.'.index('because'))\n"
   ]
  },
  {
   "cell_type": "code",
   "execution_count": 22,
   "id": "c4154390",
   "metadata": {},
   "outputs": [
    {
     "name": "stdout",
     "output_type": "stream",
     "text": [
      "33\n"
     ]
    }
   ],
   "source": [
    "print('We cannot end the sentence with ‘because’, because ‘because’ is a conjunction.'.find('because'))\n"
   ]
  },
  {
   "cell_type": "code",
   "execution_count": 23,
   "id": "5ff0a7dc",
   "metadata": {},
   "outputs": [
    {
     "name": "stdout",
     "output_type": "stream",
     "text": [
      "52\n"
     ]
    }
   ],
   "source": [
    "print('We cannot end the sentence with ‘because’, because ‘because’ is a conjunction.'.rfind('because'))"
   ]
  },
  {
   "cell_type": "code",
   "execution_count": 24,
   "id": "82a5affe",
   "metadata": {},
   "outputs": [
    {
     "name": "stdout",
     "output_type": "stream",
     "text": [
      "‘because’, because ‘because’ \n"
     ]
    }
   ],
   "source": [
    "sent='We cannot end the sentence with ‘because’, because ‘because’ is a conjunction.'\n",
    "print(sent[32:61])"
   ]
  },
  {
   "cell_type": "code",
   "execution_count": 25,
   "id": "15c222c7",
   "metadata": {},
   "outputs": [
    {
     "name": "stdout",
     "output_type": "stream",
     "text": [
      "True\n"
     ]
    }
   ],
   "source": [
    "print('Python 4 Data Science'.startswith('Python'))"
   ]
  },
  {
   "cell_type": "code",
   "execution_count": 26,
   "id": "95ee9314",
   "metadata": {},
   "outputs": [
    {
     "name": "stdout",
     "output_type": "stream",
     "text": [
      "True\n"
     ]
    }
   ],
   "source": [
    "course='Python 4 Data Science'\n",
    "print('Python' in course)"
   ]
  },
  {
   "cell_type": "code",
   "execution_count": 27,
   "id": "0a105437",
   "metadata": {},
   "outputs": [
    {
     "name": "stdout",
     "output_type": "stream",
     "text": [
      "Python 4 DataScience         \n"
     ]
    }
   ],
   "source": [
    "course='             Python 4 DataScience         '\n",
    "print(course.lstrip())"
   ]
  },
  {
   "cell_type": "code",
   "execution_count": 28,
   "id": "d6d32a80",
   "metadata": {},
   "outputs": [
    {
     "name": "stdout",
     "output_type": "stream",
     "text": [
      "     Python 4 DataScience\n"
     ]
    }
   ],
   "source": [
    "course='     Python 4 DataScience           '\n",
    "print(course.rstrip())"
   ]
  },
  {
   "cell_type": "code",
   "execution_count": 29,
   "id": "30b3e2b7",
   "metadata": {},
   "outputs": [
    {
     "name": "stdout",
     "output_type": "stream",
     "text": [
      "Django# Flask# Bottle# Pyramid# Falcon\n"
     ]
    }
   ],
   "source": [
    "lib=['Django', 'Flask', 'Bottle', 'Pyramid', 'Falcon']\n",
    "print(\"# \".join(lib))"
   ]
  },
  {
   "cell_type": "code",
   "execution_count": 30,
   "id": "6772c6d9",
   "metadata": {},
   "outputs": [
    {
     "name": "stdout",
     "output_type": "stream",
     "text": [
      "False\n"
     ]
    }
   ],
   "source": [
    "string='2021PythonDataypes'\n",
    "print(string.isidentifier())"
   ]
  },
  {
   "cell_type": "code",
   "execution_count": 31,
   "id": "ccb65ce7",
   "metadata": {},
   "outputs": [
    {
     "name": "stdout",
     "output_type": "stream",
     "text": [
      "True\n"
     ]
    }
   ],
   "source": [
    "string='Python_Dataypes_2021'\n",
    "print(string.isidentifier())"
   ]
  },
  {
   "cell_type": "code",
   "execution_count": 38,
   "id": "62e3ce1c",
   "metadata": {},
   "outputs": [
    {
     "name": "stdout",
     "output_type": "stream",
     "text": [
      "The sum is : 14\n",
      "The difference is : 2\n",
      "The product is : 48\n",
      "The division is : 1.33 \n",
      "The remainder is : 2\n",
      "The floor division is : 1\n",
      "The exponent is : 262144\n"
     ]
    }
   ],
   "source": [
    "print(f\"The sum is : {8+6}\")\n",
    "print(f\"The difference is : {8-6}\")\n",
    "print(f\"The product is : {8*6}\")\n",
    "div=8/6\n",
    "print(f\"The division is : %0.2f \" %div)\n",
    "print(f\"The remainder is : {8%6}\")\n",
    "print(f\"The floor division is : {8//6}\")\n",
    "print(f\"The exponent is : {8**6}\")"
   ]
  },
  {
   "cell_type": "code",
   "execution_count": 35,
   "id": "d4f31a5e",
   "metadata": {},
   "outputs": [
    {
     "name": "stdout",
     "output_type": "stream",
     "text": [
      "Name \t Age \t Country \t City \n",
      "Ramesh \t 96 \t Finland \t Tampere\n"
     ]
    }
   ],
   "source": [
    "print(\"Name\",\"\\t\",\"Age\",\"\\t\",\"Country\",\"\\t\",\"City\",\"\\nRamesh\",\"\\t\",96,\"\\t\",\"Finland\",\"\\t\",\"Tampere\")\n"
   ]
  },
  {
   "cell_type": "code",
   "execution_count": null,
   "id": "d48fbb1f",
   "metadata": {},
   "outputs": [],
   "source": []
  }
 ],
 "metadata": {
  "kernelspec": {
   "display_name": "Python 3 (ipykernel)",
   "language": "python",
   "name": "python3"
  },
  "language_info": {
   "codemirror_mode": {
    "name": "ipython",
    "version": 3
   },
   "file_extension": ".py",
   "mimetype": "text/x-python",
   "name": "python",
   "nbconvert_exporter": "python",
   "pygments_lexer": "ipython3",
   "version": "3.10.7"
  }
 },
 "nbformat": 4,
 "nbformat_minor": 5
}
