{
 "cells": [
  {
   "cell_type": "code",
   "execution_count": 3,
   "id": "a3c58b85",
   "metadata": {},
   "outputs": [
    {
     "name": "stdout",
     "output_type": "stream",
     "text": [
      "Enter the 1st number : 5\n",
      "Enter the 2nd number : 5\n",
      "5 is equal to 5\n"
     ]
    }
   ],
   "source": [
    "num_1 = int(input('Enter the 1st number : '))\n",
    "num_2 = int(input('Enter the 2nd number : '))\n",
    "\n",
    "if num_1 > num_2:\n",
    "    print(f'{num_1} is greater than {num_2}')\n",
    "    \n",
    "elif num_2 > num_1:\n",
    "    print(f'{num_2} is greater than {num_1}')\n",
    "    \n",
    "else: \n",
    "    print(f'{num_1} is equal to {num_2}')"
   ]
  },
  {
   "cell_type": "code",
   "execution_count": 5,
   "id": "4af56901",
   "metadata": {},
   "outputs": [
    {
     "name": "stdout",
     "output_type": "stream",
     "text": [
      "Enter the grade : 78\n",
      "B\n"
     ]
    }
   ],
   "source": [
    "grade = int(input('Enter the grade : '))\n",
    "\n",
    "if grade >= 90 and grade < 100:\n",
    "    print('A')\n",
    "elif grade >= 70 and grade < 89:\n",
    "    print('B')\n",
    "elif grade >= 60 and grade < 69:\n",
    "    print('C')\n",
    "elif grade >= 50 and grade < 59:\n",
    "    print('D')\n",
    "else:\n",
    "    print('F')"
   ]
  },
  {
   "cell_type": "code",
   "execution_count": 1,
   "id": "8d444c2f",
   "metadata": {},
   "outputs": [
    {
     "name": "stdout",
     "output_type": "stream",
     "text": [
      "Enter the month : JaNuary\n",
      "The season is winter\n"
     ]
    }
   ],
   "source": [
    "month = input('Enter the month : ')\n",
    "month = month.lower()\n",
    "\n",
    "if month == 'september' or month == 'november' or month == 'october':\n",
    "    print('The season is Autumn')\n",
    "elif month == 'december' or month == 'january' or month == 'february':\n",
    "    print('The season is winter')\n",
    "elif month == 'march' or month == 'april' or month == 'may':\n",
    "    print('The season is spring')\n",
    "elif month == 'june' or month == 'july' or month == 'august':\n",
    "    print('The season is summer')\n",
    "else:\n",
    "    print('Something went wrong')\n",
    "    "
   ]
  },
  {
   "cell_type": "code",
   "execution_count": 3,
   "id": "f20461ea",
   "metadata": {},
   "outputs": [
    {
     "name": "stdout",
     "output_type": "stream",
     "text": [
      "['banana', 'orange', 'mango', 'pear', 'grape']\n"
     ]
    }
   ],
   "source": [
    "fruits = ['banana', 'orange', 'mango', 'pear']\n",
    "fruit = 'grape'\n",
    "if fruit not in fruits:\n",
    "    fruits.append(fruit)\n",
    "else:\n",
    "    print('That fruit already exist in the list')\n",
    "    \n",
    "print(fruits)"
   ]
  },
  {
   "cell_type": "code",
   "execution_count": 4,
   "id": "e47236f9",
   "metadata": {},
   "outputs": [
    {
     "name": "stdout",
     "output_type": "stream",
     "text": [
      "That fruit already exist in the list\n",
      "['banana', 'orange', 'mango', 'pear']\n"
     ]
    }
   ],
   "source": [
    "fruits = ['banana', 'orange', 'mango', 'pear']\n",
    "fruit = 'orange'\n",
    "if fruit not in fruits:\n",
    "    fruits.append(fruit)\n",
    "else:\n",
    "    print('That fruit already exist in the list')\n",
    "    \n",
    "print(fruits)"
   ]
  },
  {
   "cell_type": "code",
   "execution_count": 39,
   "id": "9d8ef047",
   "metadata": {},
   "outputs": [
    {
     "name": "stdout",
     "output_type": "stream",
     "text": [
      "R\n"
     ]
    }
   ],
   "source": [
    "person={\n",
    "    'first_name': 'Ram',\n",
    "    'last_name': 'Kafle',\n",
    "    'age': 35,\n",
    "    'country': 'Finland',\n",
    "    'is_marred': True,\n",
    "    'skills': ['Python', 'Matlab', 'R', 'C', 'C++'],\n",
    "    'address': {\n",
    "        'street': 'Space street',\n",
    "        'zipcode': '02210'\n",
    "    }\n",
    "}\n",
    "    \n",
    "    \n",
    "if 'skills' in person:\n",
    "    key=(person.get('skills'))\n",
    "    print(key[2])"
   ]
  },
  {
   "cell_type": "code",
   "execution_count": 40,
   "id": "8f1ccec1",
   "metadata": {},
   "outputs": [
    {
     "name": "stdout",
     "output_type": "stream",
     "text": [
      "python is present\n"
     ]
    }
   ],
   "source": [
    "person={\n",
    "    'first_name': 'Ram',\n",
    "    'last_name': 'Kafle',\n",
    "    'age': 35,\n",
    "    'country': 'Finland',\n",
    "    'is_marred': True,\n",
    "    'skills': ['Python', 'Matlab', 'R', 'C', 'C++'],\n",
    "    'address': {\n",
    "        'street': 'Space street',\n",
    "        'zipcode': '02210'\n",
    "    }\n",
    "}\n",
    "    \n",
    "    \n",
    "if 'skills' in person:\n",
    "    skills_list = person.get('skills')\n",
    "    if 'Python' in skills_list:\n",
    "        print('python is present')"
   ]
  },
  {
   "cell_type": "code",
   "execution_count": 42,
   "id": "c5622812",
   "metadata": {},
   "outputs": [],
   "source": [
    "person={\n",
    "    'first_name': 'Ram',\n",
    "    'last_name': 'Kafle',\n",
    "    'age': 35,\n",
    "    'country': 'Finland',\n",
    "    'is_married': True,\n",
    "    'skills': ['Python', 'Matlab', 'R', 'C', 'C++'],\n",
    "    'address': {\n",
    "        'street': 'Space street',\n",
    "        'zipcode': '02210'\n",
    "    }\n",
    "}\n",
    "    \n",
    "    \n",
    "if 'is_married' in person and 'is_married'== True:\n",
    "    print(f'{first_name} {last_name} lives in {country}. He is married.')"
   ]
  },
  {
   "cell_type": "code",
   "execution_count": 54,
   "id": "72c77729",
   "metadata": {},
   "outputs": [
    {
     "name": "stdout",
     "output_type": "stream",
     "text": [
      "Ram Kafle lives in Finland. He is married.\n"
     ]
    }
   ],
   "source": [
    "person={\n",
    "    'first_name': 'Ram',\n",
    "    'last_name': 'Kafle',\n",
    "    'age': 35,\n",
    "    'country': 'Finland',\n",
    "    'is_married': True,\n",
    "    'skills': ['Python', 'Matlab', 'R', 'C', 'C++'],\n",
    "    'address': {\n",
    "        'street': 'Space street',\n",
    "        'zipcode': '02210'\n",
    "    }\n",
    "}\n",
    "    \n",
    "    \n",
    "if 'is_married' in person: #and 'is_married'== True:\n",
    "    status = person.get('is_married')\n",
    "    if status == True:\n",
    "        print('{first_name} {last_name} lives in {country}. He is married.' .format(**person))"
   ]
  },
  {
   "cell_type": "code",
   "execution_count": 59,
   "id": "da7856dc",
   "metadata": {},
   "outputs": [
    {
     "name": "stdout",
     "output_type": "stream",
     "text": [
      "He knows software develpoment\n"
     ]
    }
   ],
   "source": [
    "person={\n",
    "    'first_name': 'Ram',\n",
    "    'last_name': 'Kafle',\n",
    "    'age': 35,\n",
    "    'country': 'Finland',\n",
    "    'is_marred': True,\n",
    "    'skills': ['C', 'C++'],\n",
    "    'address': {\n",
    "        'street': 'Space street',\n",
    "        'zipcode': '02210'\n",
    "    }\n",
    "}\n",
    "    \n",
    "    \n",
    "if 'skills' in person:\n",
    "    skills_list = person.get('skills')\n",
    "    if 'Python' in skills_list and 'Matlab' in skills_list:\n",
    "        \n",
    "        if 'R' not in skills_list and 'C' in skills_list and 'C++' not in skills_list:\n",
    "            \n",
    "            print('He knows machine learning')\n",
    "    \n",
    "    if 'Python' in skills_list and 'R' in skills_list:\n",
    "        \n",
    "        if 'Matlab' not in skills_list and 'C' not in skills_list and 'C++' not in skills_list:\n",
    "            \n",
    "            print('He knows statistics')\n",
    "            \n",
    "    if 'C' in skills_list and 'C++' in skills_list:\n",
    "        \n",
    "        if 'Python' not in skills_list and 'R' not in skills_list and 'Matlab' not in skills_list:\n",
    "            print('He knows software develpoment')\n",
    "            \n",
    "            \n",
    "    else:\n",
    "        print('Unknown data')"
   ]
  },
  {
   "cell_type": "code",
   "execution_count": null,
   "id": "ba18860b",
   "metadata": {},
   "outputs": [],
   "source": []
  }
 ],
 "metadata": {
  "kernelspec": {
   "display_name": "Python 3 (ipykernel)",
   "language": "python",
   "name": "python3"
  },
  "language_info": {
   "codemirror_mode": {
    "name": "ipython",
    "version": 3
   },
   "file_extension": ".py",
   "mimetype": "text/x-python",
   "name": "python",
   "nbconvert_exporter": "python",
   "pygments_lexer": "ipython3",
   "version": "3.10.7"
  }
 },
 "nbformat": 4,
 "nbformat_minor": 5
}
