{
 "cells": [
  {
   "cell_type": "code",
   "execution_count": 1,
   "id": "be00622a",
   "metadata": {},
   "outputs": [
    {
     "name": "stdout",
     "output_type": "stream",
     "text": [
      "Enter the age : 5\n",
      "You need 13 more years to learn to drive\n"
     ]
    }
   ],
   "source": [
    "age = int (input(\"Enter the age : \"))\n",
    "if age >= 18:\n",
    "    print('You are old enough to learn to drive')\n",
    "else:\n",
    "    print(f'You need {18-age} more years to learn to drive')"
   ]
  },
  {
   "cell_type": "code",
   "execution_count": 2,
   "id": "7c2d3ac8",
   "metadata": {},
   "outputs": [
    {
     "name": "stdout",
     "output_type": "stream",
     "text": [
      "Enter the age : 34\n",
      "You are old enough to learn to drive\n"
     ]
    }
   ],
   "source": [
    "age = int (input(\"Enter the age : \"))\n",
    "if age >= 18:\n",
    "    print('You are old enough to learn to drive')\n",
    "else:\n",
    "    print(f'You need {18-age} more years to learn to drive')"
   ]
  },
  {
   "cell_type": "code",
   "execution_count": 6,
   "id": "b26f8f7e",
   "metadata": {},
   "outputs": [
    {
     "name": "stdout",
     "output_type": "stream",
     "text": [
      "Enter your age : 45\n",
      "Enter the age : 67\n",
      "I am 22 years older than you\n"
     ]
    }
   ],
   "source": [
    "your_age = int(input('Enter your age : '))\n",
    "my_age = int (input(\"Enter the age : \"))\n",
    "\n",
    "\n",
    "\n",
    "if your_age > my_age:\n",
    "    age_difference = your_age - my_age\n",
    "    if age_difference == 1:\n",
    "        print(f'You are {your_age - my_age} year older than me')\n",
    "    else:\n",
    "        print(f'You are {your_age - my_age} years older than me')\n",
    "elif my_age > your_age :\n",
    "    age_difference = my_age - your_age\n",
    "    if age_difference == 1:\n",
    "        print(f'I am {my_age - your_age} year older than you')\n",
    "    else:\n",
    "        print(f'I am {my_age - your_age} years older than you')\n",
    "        \n",
    "else:\n",
    "    print('We are of same age.')"
   ]
  },
  {
   "cell_type": "code",
   "execution_count": 7,
   "id": "07ffc67c",
   "metadata": {},
   "outputs": [
    {
     "name": "stdout",
     "output_type": "stream",
     "text": [
      "Enter your age : 78\n",
      "Enter the age : 34\n",
      "You are 44 years older than me\n"
     ]
    }
   ],
   "source": [
    "your_age = int(input('Enter your age : '))\n",
    "my_age = int (input(\"Enter the age : \"))\n",
    "\n",
    "\n",
    "\n",
    "if your_age > my_age:\n",
    "    age_difference = your_age - my_age\n",
    "    if age_difference == 1:\n",
    "        print(f'You are {your_age - my_age} year older than me')\n",
    "    else:\n",
    "        print(f'You are {your_age - my_age} years older than me')\n",
    "elif my_age > your_age :\n",
    "    age_difference = my_age - your_age\n",
    "    if age_difference == 1:\n",
    "        print(f'I am {my_age - your_age} year older than you')\n",
    "    else:\n",
    "        print(f'I am {my_age - your_age} years older than you')\n",
    "        \n",
    "else:\n",
    "    print('We are of same age.')"
   ]
  },
  {
   "cell_type": "code",
   "execution_count": 8,
   "id": "074454d4",
   "metadata": {},
   "outputs": [
    {
     "name": "stdout",
     "output_type": "stream",
     "text": [
      "Enter your age : 44\n",
      "Enter the age : 44\n",
      "We are of same age.\n"
     ]
    }
   ],
   "source": [
    "your_age = int(input('Enter your age : '))\n",
    "my_age = int (input(\"Enter the age : \"))\n",
    "\n",
    "\n",
    "\n",
    "if your_age > my_age:\n",
    "    age_difference = your_age - my_age\n",
    "    if age_difference == 1:\n",
    "        print(f'You are {your_age - my_age} year older than me')\n",
    "    else:\n",
    "        print(f'You are {your_age - my_age} years older than me')\n",
    "elif my_age > your_age :\n",
    "    age_difference = my_age - your_age\n",
    "    if age_difference == 1:\n",
    "        print(f'I am {my_age - your_age} year older than you')\n",
    "    else:\n",
    "        print(f'I am {my_age - your_age} years older than you')\n",
    "        \n",
    "else:\n",
    "    print('We are of same age.')\n",
    "    "
   ]
  },
  {
   "cell_type": "code",
   "execution_count": null,
   "id": "010d9bcd",
   "metadata": {},
   "outputs": [],
   "source": []
  }
 ],
 "metadata": {
  "kernelspec": {
   "display_name": "Python 3 (ipykernel)",
   "language": "python",
   "name": "python3"
  },
  "language_info": {
   "codemirror_mode": {
    "name": "ipython",
    "version": 3
   },
   "file_extension": ".py",
   "mimetype": "text/x-python",
   "name": "python",
   "nbconvert_exporter": "python",
   "pygments_lexer": "ipython3",
   "version": "3.10.7"
  }
 },
 "nbformat": 4,
 "nbformat_minor": 5
}
